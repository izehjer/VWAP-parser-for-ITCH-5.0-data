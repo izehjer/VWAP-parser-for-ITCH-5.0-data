{
  "cells": [
    {
      "cell_type": "code",
      "execution_count": null,
      "metadata": {
        "colab": {
          "base_uri": "https://localhost:8080/"
        },
        "id": "xYKPiWZ7ey8V",
        "outputId": "f0926b8b-63ca-4289-fa34-283742cfac4e"
      },
      "outputs": [
        {
          "output_type": "stream",
          "name": "stdout",
          "text": [
            "Mounted at /content/drive\n"
          ]
        }
      ],
      "source": [
        "#Author : Mohammad Anas Khan\n",
        "#Email: anaskhan9455363866@gmail.com\n",
        "#Phone Number: +918769885746\n",
        "from google.colab import drive\n",
        "drive.mount('/content/drive')"
      ]
    },
    {
      "cell_type": "code",
      "execution_count": null,
      "metadata": {
        "id": "8fvh_1ike2IT"
      },
      "outputs": [],
      "source": [
        "#Parser for NASDAQ ITCH 50 data file to calculate VWAP( Volume Weighted Average Price)"
      ]
    },
    {
      "cell_type": "code",
      "execution_count": null,
      "metadata": {
        "id": "fL9zhuLTfTuR"
      },
      "outputs": [],
      "source": [
        "#Defining the offset of all types of messages in the order book ( size - 1 ) as include size except the first character\n",
        "offset_map = dict()\n",
        "#messages related to stock a.k.a related to VWAP\n",
        "offset_map[\"R\"] = 38 # Stock Directory\n",
        "offset_map[\"A\"] = 35 # Added orders with attribution message\n",
        "offset_map[\"F\"] = 39 # Added orders without attribution message\n",
        "offset_map[\"E\"] = 30 # Executed orders with links to previously added orders\n",
        "offset_map[\"C\"] = 35 # Executed orders without links to previous added orders\n",
        "offset_map[\"U\"] = 34 # Modifications to previous  orders\n",
        "offset_map[\"P\"] = 43 # Undisplayable non-cross orders executed\n",
        "\n",
        "#messages not related to VWAP\n",
        "#cross trades are not included in VWAP calculations\n",
        "offset_map[\"S\"] = 11\n",
        "offset_map[\"H\"] = 24\n",
        "offset_map[\"Y\"] = 19\n",
        "offset_map[\"L\"] = 25\n",
        "offset_map[\"V\"] = 34\n",
        "offset_map[\"W\"] = 11\n",
        "offset_map[\"K\"] = 27\n",
        "offset_map[\"J\"] = 34\n",
        "offset_map[\"h\"] = 20\n",
        "offset_map[\"X\"] = 22\n",
        "offset_map[\"D\"] = 18\n",
        "offset_map[\"Q\"] = 39\n",
        "offset_map[\"B\"] = 18\n",
        "offset_map[\"I\"] = 49\n",
        "offset_map[\"N\"] = 19\n",
        "offset_map[\"O\"] = 47"
      ]
    },
    {
      "cell_type": "code",
      "execution_count": null,
      "metadata": {
        "colab": {
          "base_uri": "https://localhost:8080/"
        },
        "id": "j57_s0sZe1-T",
        "outputId": "e72a4e7b-ac06-45a5-c93a-839ae37de6a4"
      },
      "outputs": [
        {
          "output_type": "stream",
          "name": "stdout",
          "text": [
            "Start Parsing the file: %s /content/drive/MyDrive/01302019.NASDAQ_ITCH50.gz\n",
            "Market opened at 34200000036157: \n"
          ]
        }
      ],
      "source": [
        "#Zipping the file\n",
        "import gzip\n",
        "fileName = '/content/drive/MyDrive/01302019.NASDAQ_ITCH50.gz'\n",
        "file = gzip.open(fileName, 'rb')\n",
        "print(\"Start Parsing the file: %s\", fileName )\n",
        "\n",
        "#Using the struct module for dealing with byte order data\n",
        "import struct\n",
        "open = 0\n",
        "stock_name = dict() #To store names of stocks\n",
        "price_of_orders = dict() #To store price of orders with respect to their reference numbers\n",
        "#Not maintaining number of stocks per order as it will be given at the time of execute message\n",
        "settled_orders = []\n",
        "msg_type = file.read(1) #To read the type of messages\n",
        "ParsedSize = 0\n",
        "ParsedMessages = 0\n",
        "\n",
        "#Formatting used to unpack the messages:\n",
        "# 'H',   int of length 2 bytes\n",
        "# 'I',   unsigned int of length of 4 bytes\n",
        "# '6s',  int of length 6 bytes, as character array and convert later\n",
        "# 'Q',   unsigned long int of length 8 bytes\n",
        "# 'Xs',  character array of lenght X bytes\n",
        "\n",
        "\n",
        "def getTime(time):\n",
        "    nbytes = struct.pack('>ss6s',b'\\x00', b'\\x00', time )\n",
        "    ntimestamp = struct.unpack('>Q', nbytes)\n",
        "    return ntimestamp[0]\n",
        "\n",
        "while msg_type:\n",
        "    msg_type = msg_type.decode() #Decoding the bytes object to character object\n",
        "    if msg_type in offset_map.keys():\n",
        "        stride = offset_map[msg_type]\n",
        "        msg = file.read(stride)\n",
        "        ParsedSize += stride\n",
        "        if msg_type == \"S\":\n",
        "            message = struct.unpack('>HH6ss',msg)\n",
        "            cur_time = getTime(message[2])\n",
        "            if message[3].decode() == \"Q\": #To track the market time\n",
        "                open = cur_time\n",
        "                print(\"Market opened at %d: \" % cur_time)\n",
        "            else:\n",
        "                pass\n",
        "        elif msg_type == \"R\": #Stock Directory message\n",
        "            message = struct.unpack('>HH6s8sssIss2ssssssIs', msg )\n",
        "            name = message[3].decode().strip()\n",
        "            stockID = message[0]\n",
        "            stock_name[stockID] = name\n",
        "        elif msg_type == \"H\": #Stock Trading Action ( not affecting VWAP )\n",
        "            pass\n",
        "        elif msg_type == \"Y\": #Reg SHO Short Sale Price Test RestrictedIndicator( not affecting VWAP )\n",
        "            pass\n",
        "        elif msg_type == \"L\": #Market Participant Position ( not affecting VWAP )\n",
        "            pass\n",
        "        elif msg_type == \"V\": #MWCB Decline Level Message ( not affecting VWAP )\n",
        "            pass\n",
        "        elif msg_type == \"W\": #MWCB Status Message ( not affecting VWAP )\n",
        "            pass\n",
        "        elif msg_type == \"K\": #Quoting Period Update ( not affecting VWAP )\n",
        "            pass\n",
        "        elif msg_type == \"J\": #Limit Up – Limit Down (LULD) Auction Collar( not affecting VWAP )\n",
        "            pass\n",
        "        elif msg_type == \"h\": #Operational Halt ( not affecting VWAP )\n",
        "            pass\n",
        "        elif msg_type == \"A\": #Add order message\n",
        "            message = struct.unpack('>HH6sQsI8sI', msg )\n",
        "            reference_no = message[3]\n",
        "            price = message[7]\n",
        "            price_of_orders[reference_no] = price\n",
        "        elif msg_type == \"F\": #Add order with mpid\n",
        "            message = struct.unpack('>HH6sQsI8sI4s', msg )\n",
        "            reference_no = message[3]\n",
        "            price = message[7]\n",
        "            price_of_orders[reference_no] = price\n",
        "        elif msg_type == \"E\": #Order Executed withour price message\n",
        "            message = struct.unpack('>HH6sQIQ', msg )\n",
        "            stock = message[0]\n",
        "            quantity = message[4]\n",
        "            price = price_of_orders[reference]\n",
        "            reference_no = message[3]\n",
        "            cur_time = getTime(message[2])\n",
        "            orderTuple = (stock,price,quantity,cur_time)\n",
        "            settled_orders.append(orderTuple)\n",
        "        elif msg_type == \"C\": #Order Executed with price message\n",
        "            message = struct.unpack('>HH6sQIQsI', msg )\n",
        "            include = message[6]\n",
        "            if include.decode() == \"Y\": #To be displayed\n",
        "                stock = message[0]\n",
        "                quantity = message[4]\n",
        "                price = message[7]\n",
        "                reference_no = message[3]\n",
        "                cur_time = getTime(message[2])\n",
        "                orderTuple = (stock,price,quantity,cur_time)\n",
        "                settled_orders.append(orderTuple)\n",
        "            else: #Not to be displayed\n",
        "                pass\n",
        "        elif msg_type == \"X\": #Order Cancel Message ( not affecting VWAP )\n",
        "            pass\n",
        "        elif msg_type == \"D\": #Order Delete Message ( not affecting VWAP )\n",
        "            pass\n",
        "        elif msg_type == \"U\": #Order Replace message\n",
        "            message = struct.unpack('>HH6sQQII', msg )\n",
        "            reference = message[4] # New reference number created\n",
        "            price = message[6]\n",
        "            price_of_orders[reference] = price\n",
        "        elif msg_type == \"P\": #Non displayable non cross message\n",
        "            message = struct.unpack('>HH6sQsIQIQ',msg)\n",
        "            stock = message[0]\n",
        "            quantity = message[5]\n",
        "            price = message[7]\n",
        "            cur_time = getTime(message[2])\n",
        "            orderTuple = (stock ,price,quantity,cur_time)\n",
        "            settled_orders.append(orderTuple)\n",
        "        elif msg_type == \"Q\": #Cross Trade message ( not to be included in VWAP calculation)\n",
        "            pass\n",
        "        elif msg_type == \"B\": #Broken Trade message ( not affecting VWAP )\n",
        "            pass\n",
        "        elif msg_type == \"I\": #Net Order Imbalance Indicator (NOII)Message ( not affecting VWAP )\n",
        "            pass\n",
        "        elif msg_type == \"N\": #Retail Price Improvement Indicator(RPII) ( not affecting VWAP )\n",
        "            pass\n",
        "        elif msg_type == \"O\": # Direct Listing with Capital Raise (DLCR) securities ( not affecting VWAP )\n",
        "            pass\n",
        "    ParsedSize += 1\n",
        "    ParsedMessages += 1\n",
        "    msg_type = file.read(1)\n",
        "\n",
        "assert open == 34200000036157 #Market should open at 9:30\n",
        "print(\"Order book formed\")"
      ]
    },
    {
      "cell_type": "code",
      "execution_count": null,
      "metadata": {
        "id": "9PuMwKdBBX39"
      },
      "outputs": [],
      "source": [
        "#Calcaulating the typical price volume and typical volume of the stocks by the hour\n",
        "ns_time_hour = 3600000000000 #Nanosecond time per hour\n",
        "pv = dict() #To maintian price volume of trades by the hour\n",
        "v = dict() #To maintain volume of the trades by the hour\n",
        "#Initializing\n",
        "for stock_id in stock_name.keys():\n",
        "    stock_pv = dict()\n",
        "    stock_v = dict()\n",
        "    for hour in range(10,17): #10 am to 4 pm are the hours which are relevant\n",
        "      stock_pv[hour] = 0\n",
        "      stock_v[hour] = 0\n",
        "    pv[stock_id] = stock_pv\n",
        "    v[stock_id] = stock_v\n",
        "\n",
        "#Calculating Price volume and volume\n",
        "for order in settled_orders:\n",
        "    stock_id , price , quantity , time = order\n",
        "    if time < open:\n",
        "        continue\n",
        "    cur_hour = ( time + ns_time_hour - 1 ) // ns_time_hour\n",
        "    pv[stock_id][cur_hour] += price * quantity\n",
        "    v[stock_id][cur_hour] += quantity"
      ]
    },
    {
      "cell_type": "code",
      "execution_count": null,
      "metadata": {
        "id": "aaDtvOlDauaL"
      },
      "outputs": [],
      "source": [
        "#VWAP = (Cumulative typical price x volume)/cumulative volume\n",
        "vwap = dict()\n",
        "for stock_id in stock_name.keys():\n",
        "    stock_vwap = dict()\n",
        "    cum_typ_price_volume = 0 #To track cummulative typ price volume\n",
        "    cum_volume = 0 #To track cummulative volume\n",
        "    for hour in range(10,17):\n",
        "        cum_typ_price_volume += pv[stock_id][hour]\n",
        "        cum_volume += v[stock_id][hour]\n",
        "        if cum_volume > 0:\n",
        "          stock_vwap[hour] = cum_typ_price_volume / cum_volume\n",
        "        else:\n",
        "          stock_vwap[hour] = 0\n",
        "    vwap[stock_id] = stock_vwap"
      ]
    },
    {
      "cell_type": "code",
      "execution_count": null,
      "metadata": {
        "id": "lXwn5l6sel6a"
      },
      "outputs": [],
      "source": [
        "#Using pandas to output to store VWAP\n",
        "import pandas as pd\n",
        "output = pd.DataFrame()\n",
        "\n",
        "\n",
        "st = []\n",
        "vwap_output = dict()\n",
        "for hour in range(10,17):\n",
        "    this_hour = []\n",
        "    vwap_output[hour] = this_hour\n",
        "for stock_id in stock_name.keys():\n",
        "    st.append(stock_name[stock_id])\n",
        "    for hour in range(10,17):\n",
        "        vwap_output[hour].append(vwap[stock_id][hour])\n",
        "\n",
        "output[\"Stock Names\"] = st\n",
        "for hour in range(10,17):\n",
        "    display_hour = \"{}:00\".format(hour)\n",
        "    output[display_hour] = vwap_output[hour]\n",
        "\n",
        "output.to_csv( \"vwap.csv\")\n",
        "print(\"File Parsing Success\")\n"
      ]
    }
  ],
  "metadata": {
    "colab": {
      "provenance": []
    },
    "kernelspec": {
      "display_name": "Python 3",
      "name": "python3"
    },
    "language_info": {
      "name": "python"
    }
  },
  "nbformat": 4,
  "nbformat_minor": 0
}